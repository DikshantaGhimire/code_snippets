{
 "cells": [
  {
   "cell_type": "markdown",
   "metadata": {},
   "source": [
    "#  Introduction\n",
    "\n",
    "This notebook contains a function that helps you visualize your long term investment plan.\n",
    "\n",
    "Step 1: Calculate how much savings do you have for now and estimate how much you can save per year\n",
    "\n",
    "Step 2: Think about how much money do you need after retirement\n",
    "\n",
    "- 3,000 Euro/Month --> 36,000 Euro/Year\n",
    "\n",
    "- Assuming we can have 5% interest rate per year, then we need to accumulate at least 720,000 Euro before retirement (36,000/0.05 = 720,000)\n",
    "\n",
    "- Please also note that, assuming the inflation rate of 3% per year, the buying power of 3000 Euro in 2050 might only worth 1235 Euro in 2020. Please adjust the inflation rate by yourself when estimating how much money do you need after retirement\n",
    "\n",
    "Step 3: Estmiate (roughly) how much money do you need to invest per year and calculate it's long term return\n"
   ]
  },
  {
   "cell_type": "markdown",
   "metadata": {},
   "source": [
    "# Define functions"
   ]
  },
  {
   "cell_type": "code",
   "execution_count": 1,
   "metadata": {},
   "outputs": [],
   "source": [
    "# Import libraries\n",
    "from matplotlib import pyplot as plt\n",
    "import pandas as pd\n",
    "\n",
    "plt.style.use('bmh')"
   ]
  },
  {
   "cell_type": "code",
   "execution_count": 3,
   "metadata": {},
   "outputs": [
    {
     "ename": "IndentationError",
     "evalue": "unindent does not match any outer indentation level (<tokenize>, line 45)",
     "output_type": "error",
     "traceback": [
      "\u001b[0;36m  File \u001b[0;32m\"<tokenize>\"\u001b[0;36m, line \u001b[0;32m45\u001b[0m\n\u001b[0;31m    y1: str = 'total_investment', y2: str = 'value_by_next_period',\u001b[0m\n\u001b[0m    ^\u001b[0m\n\u001b[0;31mIndentationError\u001b[0m\u001b[0;31m:\u001b[0m unindent does not match any outer indentation level\n"
     ]
    }
   ],
   "source": [
    "]def calc_return_over_periods(initial_investment: int, investment_per_period: int,\n",
    "                             return_per_period: float, n_period: int,\n",
    "                             increase_investment_per_period: float = 0.00,\n",
    "                             invest_at_period_begin: bool = True) -> pd.DataFrame:\n",
    "    \"\"\"\n",
    "    This function calculates the overall rate of return across n periods given a certain return rate pre period\n",
    "    :param initial_investment: Amount of initial investment\n",
    "    :param investment_per_period: Amount of investment per period\n",
    "    :param return_per_period: Assumed rate of return per period\n",
    "    :param n_period: Total number of periods\n",
    "    :param increase_investment_per_period: Increase the amount of investment by x for each period after the first investment period\n",
    "    :param invest_at_period_begin: whether to invest at the begining of each period or not\n",
    "    :return: dataframe contains the rate of return for n periods.\n",
    "    \"\"\"\n",
    "    df_result = pd.DataFrame()\n",
    "\n",
    "    for i in range(n_period):\n",
    "        if i == 0:\n",
    "            if invest_at_period_begin:\n",
    "                period_begin_investment = initial_investment + investment_per_period\n",
    "            if not invest_at_period_begin:\n",
    "                period_begin_investment = initial_investment\n",
    "            df_result.loc[i, 'period_begin_investment'] = period_begin_investment\n",
    "            df_result.loc[i, 'total_investment'] = period_begin_investment\n",
    "            value = period_begin_investment * (1 + return_per_period)\n",
    "            df_result.loc[i, 'value_by_next_period'] = value\n",
    "        else:\n",
    "            if invest_at_period_begin:\n",
    "                period_begin_investment = investment_per_period * ((1 + increase_investment_per_period) ** i)\n",
    "            if not invest_at_period_begin:\n",
    "                period_begin_investment = investment_per_period * ((1 + increase_investment_per_period) ** (i - 1))\n",
    "            value += period_begin_investment\n",
    "            df_result.loc[i, 'period_begin_investment'] = period_begin_investment\n",
    "            df_result.loc[i, 'total_investment'] = (df_result.loc[i - 1, 'total_investment'] +\n",
    "                                                    df_result.loc[i, 'period_begin_investment'])\n",
    "            value = value * (1 + return_per_period)\n",
    "            df_result.loc[i, 'value_by_next_period'] = value\n",
    "\n",
    "    df_result['return_by_next_period'] = df_result['value_by_next_period'] / df_result['total_investment'] - 1\n",
    "\n",
    "    return df_result.round(2)\n",
    "\n",
    "\n",
    "def plot_changes(df: pd.DataFrame,\n",
    "                 y1: str = 'total_investment', y2: str = 'value_by_next_period',\n",
    "                 title: str = 'Visualize your saving plan and its future value') -> None:\n",
    "    \"\"\"\n",
    "    This function visualizes the total investment and the total value of the investment plan across time\n",
    "    :param df: A dataframe contains total investment and total value\n",
    "    :param y1: Column name\n",
    "    :param y2: Column name\n",
    "    :param title: Title of the graph\n",
    "    :return: A plot\n",
    "    \"\"\"\n",
    "    plt.figure(figsize=(15, 5))\n",
    "    plt.plot(df[y1], label=y1)\n",
    "    plt.plot(df[y2], label=y2)\n",
    "    plt.xlabel('period')\n",
    "    plt.ylabel('value')\n",
    "    plt.title(title)\n",
    "    plt.legend()\n",
    "    plt.show()"
   ]
  },
  {
   "cell_type": "markdown",
   "metadata": {},
   "source": [
    "# Case 1"
   ]
  },
  {
   "cell_type": "markdown",
   "metadata": {},
   "source": [
    "Imagine that you are around 30 years old and have some savings (e.g., 20k Euro), and you are determined to invest 10000 Euro each year in order to have enough money for your retirement.\n",
    "\n",
    "If you invest your savings into a ETF (e.g., SP500), you are likely to get about 5% annual return on average.\n",
    "\n",
    "If everything works well, you want to retire around 60, so about 30 years to go!\n",
    "\n",
    "Let's use the function above to check if we can have enough money saved for retirement in this case."
   ]
  },
  {
   "cell_type": "code",
   "execution_count": null,
   "metadata": {},
   "outputs": [],
   "source": [
    "# Each period is a year\n",
    "\n",
    "# Assuming investing 20000 Euro initially \n",
    "initial_investment = 20000\n",
    "\n",
    "# Assuming investing 10000 Euro in the begining of each year\n",
    "investment_per_period = 10000\n",
    "\n",
    "# Assuming the average investment return rate is about 5%\n",
    "return_per_period = 0.05\n",
    "\n",
    "# Assuming the plan lasts for 30 years\n",
    "n_period = 30\n",
    "\n",
    "df_plan1 = calc_return_over_periods(initial_investment, investment_per_period, \n",
    "                                   return_per_period, n_period)\n",
    "df_plan1"
   ]
  },
  {
   "cell_type": "code",
   "execution_count": null,
   "metadata": {},
   "outputs": [],
   "source": [
    "plot_changes(df_plan1, title='Case 1')"
   ]
  },
  {
   "cell_type": "markdown",
   "metadata": {},
   "source": [
    "Conguraturations! It seems that if you just stick to this plan, you will have enough money for your retirement."
   ]
  },
  {
   "cell_type": "markdown",
   "metadata": {},
   "source": [
    "# Case 2\n",
    "Due to inflation and the increase of your salary, you might decided to save 2% more each year, let's check how that is going to change the final value"
   ]
  },
  {
   "cell_type": "code",
   "execution_count": null,
   "metadata": {
    "scrolled": false
   },
   "outputs": [],
   "source": [
    "# Each period is a year\n",
    "\n",
    "# Assuming investing 20000 Euro initially \n",
    "initial_investment = 20000\n",
    "\n",
    "# Assuming investing 10000 Euro in the begining of each year\n",
    "investment_per_period = 10000\n",
    "\n",
    "# Assuming the average investment return rate is about 5%\n",
    "return_per_period = 0.05\n",
    "\n",
    "# Assuming the plan lasts for 30 years\n",
    "n_period = 30\n",
    "\n",
    "# Assuming increase the amount of investment each year by 2%\n",
    "increase_investment_per_period = 0.02\n",
    "\n",
    "df_plan2 = calc_return_over_periods(initial_investment, investment_per_period, \n",
    "                                   return_per_period, n_period,\n",
    "                                   increase_investment_per_period)\n",
    "\n",
    "df_plan2"
   ]
  },
  {
   "cell_type": "code",
   "execution_count": null,
   "metadata": {},
   "outputs": [],
   "source": [
    "plot_changes(df_plan2, title='Case 2')"
   ]
  },
  {
   "cell_type": "markdown",
   "metadata": {},
   "source": [
    "It seems that it only takes about 26 years instead of the 30 years in order to have enough savings for retirement. However, the return rate was reduced a bit due to the investment of more money at the later stage of this plan."
   ]
  },
  {
   "cell_type": "markdown",
   "metadata": {},
   "source": [
    "# Case 3\n",
    "\n",
    "Let's imagine that you are at your early 20s and just got your first job recently and do not have any savings for now. \n",
    "\n",
    "From next month on, you will be able to save 500 each month."
   ]
  },
  {
   "cell_type": "code",
   "execution_count": null,
   "metadata": {},
   "outputs": [],
   "source": [
    "# Each period is a month\n",
    "\n",
    "# No initial investment\n",
    "initial_investment = 0\n",
    "\n",
    "# Invest 500 Euro at the end of each month\n",
    "investment_per_period = 500\n",
    "\n",
    "# Assuming the average investment return rate is about 5% per year\n",
    "return_per_year = 0.05\n",
    "return_per_period = (return_per_year + 1)**(1/12) - 1 \n",
    "\n",
    "# Assuming the plan lasts for 40 years\n",
    "n_years = 40\n",
    "n_period = n_years*12\n",
    "\n",
    "df_plan3 = calc_return_over_periods(initial_investment, investment_per_period, \n",
    "                                   return_per_period, n_period,\n",
    "                                   invest_at_period_begin=False)\n",
    "\n",
    "df_plan3"
   ]
  },
  {
   "cell_type": "code",
   "execution_count": null,
   "metadata": {},
   "outputs": [],
   "source": [
    "plot_changes(df_plan3, title='Case 3')"
   ]
  },
  {
   "cell_type": "markdown",
   "metadata": {},
   "source": [
    "Even with little amount of savings, you can still have enough money for your retirement by 60. "
   ]
  },
  {
   "cell_type": "markdown",
   "metadata": {},
   "source": [
    "# Conclusion\n",
    "\n",
    "We can observe that, in plan 3, the rate of return looks way better than case 1 and and case 2. So start investing earlier is always a good idea! \n",
    "\n",
    "Hope the current notebook is useful for you to set up a long term investment plan :) \n",
    "\n",
    "Starting from the next notebook, we are going to do some backtest using the total return index of SP500."
   ]
  },
  {
   "cell_type": "code",
   "execution_count": null,
   "metadata": {},
   "outputs": [],
   "source": []
  }
 ],
 "metadata": {
  "kernelspec": {
   "display_name": "Python 3",
   "language": "python",
   "name": "python3"
  },
  "language_info": {
   "codemirror_mode": {
    "name": "ipython",
    "version": 3
   },
   "file_extension": ".py",
   "mimetype": "text/x-python",
   "name": "python",
   "nbconvert_exporter": "python",
   "pygments_lexer": "ipython3",
   "version": "3.8.3"
  },
  "toc": {
   "base_numbering": 1,
   "nav_menu": {},
   "number_sections": false,
   "sideBar": true,
   "skip_h1_title": false,
   "title_cell": "Table of Contents",
   "title_sidebar": "Contents",
   "toc_cell": false,
   "toc_position": {
    "height": "calc(100% - 180px)",
    "left": "10px",
    "top": "150px",
    "width": "314px"
   },
   "toc_section_display": true,
   "toc_window_display": true
  },
  "varInspector": {
   "cols": {
    "lenName": 16,
    "lenType": 16,
    "lenVar": 40
   },
   "kernels_config": {
    "python": {
     "delete_cmd_postfix": "",
     "delete_cmd_prefix": "del ",
     "library": "var_list.py",
     "varRefreshCmd": "print(var_dic_list())"
    },
    "r": {
     "delete_cmd_postfix": ") ",
     "delete_cmd_prefix": "rm(",
     "library": "var_list.r",
     "varRefreshCmd": "cat(var_dic_list()) "
    }
   },
   "types_to_exclude": [
    "module",
    "function",
    "builtin_function_or_method",
    "instance",
    "_Feature"
   ],
   "window_display": false
  }
 },
 "nbformat": 4,
 "nbformat_minor": 4
}
